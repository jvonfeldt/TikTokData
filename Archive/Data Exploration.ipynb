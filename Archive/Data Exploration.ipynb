{
 "cells": [
  {
   "cell_type": "markdown",
   "metadata": {},
   "source": [
    "**To Do List**\n",
    "- Read up on normalizing - tabs already found"
   ]
  },
  {
   "cell_type": "markdown",
   "metadata": {},
   "source": [
    "**Dictionary and Definitions**\n",
    "- Fans is a user attribute not a video attribute. It is the value as of the date of data pull, not of the video being posted.\n",
    "    - Pulling old videos may cause disconnect between user base when video was posted and now"
   ]
  },
  {
   "cell_type": "code",
   "execution_count": 1,
   "metadata": {},
   "outputs": [],
   "source": [
    "import datetime as dt\n",
    "import pickle\n",
    "import pandas as pd \n",
    "from sklearn.preprocessing import MinMaxScaler\n",
    "import matplotlib.pyplot as plt"
   ]
  },
  {
   "cell_type": "code",
   "execution_count": 78,
   "metadata": {},
   "outputs": [],
   "source": [
    "#Read in data\n",
    "pkl_file = open('tiktoklist1.pickle', 'rb')\n",
    "tiktok_pkl = pickle.load(pkl_file)"
   ]
  },
  {
   "cell_type": "code",
   "execution_count": 79,
   "metadata": {},
   "outputs": [],
   "source": [
    "#Create Dataframe\n",
    "tiktoks = pd.DataFrame.from_dict(tiktok_pkl,orient='index')\n",
    "tiktoks.index.name = 'video_id'"
   ]
  },
  {
   "cell_type": "code",
   "execution_count": 80,
   "metadata": {},
   "outputs": [
    {
     "data": {
      "text/html": [
       "<div>\n",
       "<style scoped>\n",
       "    .dataframe tbody tr th:only-of-type {\n",
       "        vertical-align: middle;\n",
       "    }\n",
       "\n",
       "    .dataframe tbody tr th {\n",
       "        vertical-align: top;\n",
       "    }\n",
       "\n",
       "    .dataframe thead th {\n",
       "        text-align: right;\n",
       "    }\n",
       "</style>\n",
       "<table border=\"1\" class=\"dataframe\">\n",
       "  <thead>\n",
       "    <tr style=\"text-align: right;\">\n",
       "      <th></th>\n",
       "      <th>user</th>\n",
       "      <th>fans</th>\n",
       "      <th>views</th>\n",
       "      <th>posttime</th>\n",
       "    </tr>\n",
       "    <tr>\n",
       "      <th>video_id</th>\n",
       "      <th></th>\n",
       "      <th></th>\n",
       "      <th></th>\n",
       "      <th></th>\n",
       "    </tr>\n",
       "  </thead>\n",
       "  <tbody>\n",
       "  </tbody>\n",
       "</table>\n",
       "</div>"
      ],
      "text/plain": [
       "Empty DataFrame\n",
       "Columns: [user, fans, views, posttime]\n",
       "Index: []"
      ]
     },
     "execution_count": 80,
     "metadata": {},
     "output_type": "execute_result"
    }
   ],
   "source": [
    "##Prints Duplicates if any and then drops them\n",
    "tiktoks.loc[tiktoks.duplicated()]"
   ]
  },
  {
   "cell_type": "code",
   "execution_count": 65,
   "metadata": {},
   "outputs": [],
   "source": [
    "##Drop Duplicates\n",
    "tiktoks = tiktoks.drop_duplicates()"
   ]
  },
  {
   "cell_type": "code",
   "execution_count": 91,
   "metadata": {},
   "outputs": [],
   "source": [
    "## Drop anyone with < 5 videos, not enough sample size for normalization\n",
    "tikgroup = tiktoks.groupby(by='user').count().sort_values(by='posttime')\n",
    "tikgroup = tikgroup.loc[tikgroup['posttime'] < 5]\n",
    "ul = tikgroup.index\n",
    "\n",
    "for user in ul:\n",
    "    to_drop = tiktoks.loc[tiktoks['user'] == user].index\n",
    "    tiktoks.drop(to_drop,inplace=True)\n",
    "    "
   ]
  },
  {
   "cell_type": "code",
   "execution_count": 92,
   "metadata": {},
   "outputs": [],
   "source": [
    "##Add a few variables\n",
    "tiktoks['posttime'] = pd.to_datetime(tiktoks['posttime'],unit='s')\n",
    "tiktoks['date'] = tiktoks['posttime'].dt.date\n",
    "tiktoks['hour'] = tiktoks['posttime'].dt.hour\n",
    "tiktoks['day'] = tiktoks['posttime'].dt.weekday"
   ]
  },
  {
   "cell_type": "code",
   "execution_count": 93,
   "metadata": {},
   "outputs": [
    {
     "data": {
      "text/html": [
       "<div>\n",
       "<style scoped>\n",
       "    .dataframe tbody tr th:only-of-type {\n",
       "        vertical-align: middle;\n",
       "    }\n",
       "\n",
       "    .dataframe tbody tr th {\n",
       "        vertical-align: top;\n",
       "    }\n",
       "\n",
       "    .dataframe thead th {\n",
       "        text-align: right;\n",
       "    }\n",
       "</style>\n",
       "<table border=\"1\" class=\"dataframe\">\n",
       "  <thead>\n",
       "    <tr style=\"text-align: right;\">\n",
       "      <th></th>\n",
       "      <th>user</th>\n",
       "      <th>fans</th>\n",
       "    </tr>\n",
       "  </thead>\n",
       "  <tbody>\n",
       "    <tr>\n",
       "      <th>62</th>\n",
       "      <td>6808197838368850950</td>\n",
       "      <td>9827</td>\n",
       "    </tr>\n",
       "    <tr>\n",
       "      <th>22</th>\n",
       "      <td>6709481797258511366</td>\n",
       "      <td>13400</td>\n",
       "    </tr>\n",
       "    <tr>\n",
       "      <th>63</th>\n",
       "      <td>6670840091827273734</td>\n",
       "      <td>16300</td>\n",
       "    </tr>\n",
       "    <tr>\n",
       "      <th>27</th>\n",
       "      <td>6694302904487379974</td>\n",
       "      <td>19700</td>\n",
       "    </tr>\n",
       "    <tr>\n",
       "      <th>73</th>\n",
       "      <td>6787490807429825541</td>\n",
       "      <td>20000</td>\n",
       "    </tr>\n",
       "    <tr>\n",
       "      <th>...</th>\n",
       "      <td>...</td>\n",
       "      <td>...</td>\n",
       "    </tr>\n",
       "    <tr>\n",
       "      <th>46</th>\n",
       "      <td>6748929703376536581</td>\n",
       "      <td>7000000</td>\n",
       "    </tr>\n",
       "    <tr>\n",
       "      <th>52</th>\n",
       "      <td>228700074422296576</td>\n",
       "      <td>8800000</td>\n",
       "    </tr>\n",
       "    <tr>\n",
       "      <th>39</th>\n",
       "      <td>153416220371775488</td>\n",
       "      <td>9400000</td>\n",
       "    </tr>\n",
       "    <tr>\n",
       "      <th>51</th>\n",
       "      <td>132667022575992832</td>\n",
       "      <td>12900000</td>\n",
       "    </tr>\n",
       "    <tr>\n",
       "      <th>50</th>\n",
       "      <td>6756702871704192005</td>\n",
       "      <td>19800000</td>\n",
       "    </tr>\n",
       "  </tbody>\n",
       "</table>\n",
       "<p>83 rows × 2 columns</p>\n",
       "</div>"
      ],
      "text/plain": [
       "                   user      fans\n",
       "62  6808197838368850950      9827\n",
       "22  6709481797258511366     13400\n",
       "63  6670840091827273734     16300\n",
       "27  6694302904487379974     19700\n",
       "73  6787490807429825541     20000\n",
       "..                  ...       ...\n",
       "46  6748929703376536581   7000000\n",
       "52   228700074422296576   8800000\n",
       "39   153416220371775488   9400000\n",
       "51   132667022575992832  12900000\n",
       "50  6756702871704192005  19800000\n",
       "\n",
       "[83 rows x 2 columns]"
      ]
     },
     "execution_count": 93,
     "metadata": {},
     "output_type": "execute_result"
    }
   ],
   "source": [
    "##Let's also split users up by their fan count\n",
    "\n",
    "user_df = tiktoks.drop_duplicates(subset=['user']).loc[:,['user','fans']].reset_index(drop=True)\n",
    "\n",
    "user_df.sort_values(by=['fans'])\n",
    "##plt.hist(tiktoks['fans'])                "
   ]
  },
  {
   "cell_type": "code",
   "execution_count": 8,
   "metadata": {},
   "outputs": [],
   "source": [
    "##Join back to the original - only if you want account sizes\n",
    "##tiktoks = tiktoks.merge(user_df.loc[:,['user','fans']],right_on = ['user'], left_on=['user'])"
   ]
  },
  {
   "cell_type": "code",
   "execution_count": 85,
   "metadata": {},
   "outputs": [],
   "source": [
    "##Alter a few datatypes for series - necessary for scikitlearn method\n",
    "tiktoks['user'] = tiktoks['user'].astype('int64')\n",
    "tiktoks['views'] = tiktoks['views'].astype('float64')"
   ]
  },
  {
   "cell_type": "code",
   "execution_count": 86,
   "metadata": {},
   "outputs": [
    {
     "data": {
      "text/html": [
       "<div>\n",
       "<style scoped>\n",
       "    .dataframe tbody tr th:only-of-type {\n",
       "        vertical-align: middle;\n",
       "    }\n",
       "\n",
       "    .dataframe tbody tr th {\n",
       "        vertical-align: top;\n",
       "    }\n",
       "\n",
       "    .dataframe thead th {\n",
       "        text-align: right;\n",
       "    }\n",
       "</style>\n",
       "<table border=\"1\" class=\"dataframe\">\n",
       "  <thead>\n",
       "    <tr style=\"text-align: right;\">\n",
       "      <th></th>\n",
       "      <th>user</th>\n",
       "      <th>fans</th>\n",
       "      <th>views</th>\n",
       "      <th>posttime</th>\n",
       "      <th>date</th>\n",
       "      <th>hour</th>\n",
       "      <th>day</th>\n",
       "    </tr>\n",
       "    <tr>\n",
       "      <th>video_id</th>\n",
       "      <th></th>\n",
       "      <th></th>\n",
       "      <th></th>\n",
       "      <th></th>\n",
       "      <th></th>\n",
       "      <th></th>\n",
       "      <th></th>\n",
       "    </tr>\n",
       "  </thead>\n",
       "  <tbody>\n",
       "    <tr>\n",
       "      <th>6929135730618879237</th>\n",
       "      <td>6700343527676740613</td>\n",
       "      <td>5800000</td>\n",
       "      <td>2607.0</td>\n",
       "      <td>2021-02-14 15:05:44</td>\n",
       "      <td>2021-02-14</td>\n",
       "      <td>15</td>\n",
       "      <td>6</td>\n",
       "    </tr>\n",
       "    <tr>\n",
       "      <th>6928770891627121926</th>\n",
       "      <td>6700343527676740613</td>\n",
       "      <td>5800000</td>\n",
       "      <td>1500000.0</td>\n",
       "      <td>2021-02-13 15:29:58</td>\n",
       "      <td>2021-02-13</td>\n",
       "      <td>15</td>\n",
       "      <td>5</td>\n",
       "    </tr>\n",
       "    <tr>\n",
       "      <th>6928372946792664326</th>\n",
       "      <td>6700343527676740613</td>\n",
       "      <td>5800000</td>\n",
       "      <td>203100.0</td>\n",
       "      <td>2021-02-12 13:45:48</td>\n",
       "      <td>2021-02-12</td>\n",
       "      <td>13</td>\n",
       "      <td>4</td>\n",
       "    </tr>\n",
       "    <tr>\n",
       "      <th>6928012472490265861</th>\n",
       "      <td>6700343527676740613</td>\n",
       "      <td>5800000</td>\n",
       "      <td>133700.0</td>\n",
       "      <td>2021-02-11 14:26:59</td>\n",
       "      <td>2021-02-11</td>\n",
       "      <td>14</td>\n",
       "      <td>3</td>\n",
       "    </tr>\n",
       "    <tr>\n",
       "      <th>6927642059599908102</th>\n",
       "      <td>6700343527676740613</td>\n",
       "      <td>5800000</td>\n",
       "      <td>255100.0</td>\n",
       "      <td>2021-02-10 14:29:36</td>\n",
       "      <td>2021-02-10</td>\n",
       "      <td>14</td>\n",
       "      <td>2</td>\n",
       "    </tr>\n",
       "  </tbody>\n",
       "</table>\n",
       "</div>"
      ],
      "text/plain": [
       "                                    user     fans      views  \\\n",
       "video_id                                                       \n",
       "6929135730618879237  6700343527676740613  5800000     2607.0   \n",
       "6928770891627121926  6700343527676740613  5800000  1500000.0   \n",
       "6928372946792664326  6700343527676740613  5800000   203100.0   \n",
       "6928012472490265861  6700343527676740613  5800000   133700.0   \n",
       "6927642059599908102  6700343527676740613  5800000   255100.0   \n",
       "\n",
       "                               posttime        date  hour  day  \n",
       "video_id                                                        \n",
       "6929135730618879237 2021-02-14 15:05:44  2021-02-14    15    6  \n",
       "6928770891627121926 2021-02-13 15:29:58  2021-02-13    15    5  \n",
       "6928372946792664326 2021-02-12 13:45:48  2021-02-12    13    4  \n",
       "6928012472490265861 2021-02-11 14:26:59  2021-02-11    14    3  \n",
       "6927642059599908102 2021-02-10 14:29:36  2021-02-10    14    2  "
      ]
     },
     "execution_count": 86,
     "metadata": {},
     "output_type": "execute_result"
    }
   ],
   "source": [
    "## Here is what dataframe looks like\n",
    "tiktoks.head()"
   ]
  },
  {
   "cell_type": "code",
   "execution_count": 94,
   "metadata": {},
   "outputs": [
    {
     "data": {
      "text/plain": [
       "0     6700343527676740613\n",
       "1     6866499035965654022\n",
       "2     6805364861930783749\n",
       "3     6648625797669535749\n",
       "4     6793185122575107077\n",
       "             ...         \n",
       "78    6807116212674561029\n",
       "79    6791739431273726981\n",
       "80    6798181487554462725\n",
       "81    6726230203645887494\n",
       "82    6723287733420786694\n",
       "Name: user, Length: 83, dtype: int64"
      ]
     },
     "execution_count": 94,
     "metadata": {},
     "output_type": "execute_result"
    }
   ],
   "source": [
    "##Create list of unique values to iterate through for normalization\n",
    "user_list = user_df['user']\n",
    "user_list"
   ]
  },
  {
   "cell_type": "code",
   "execution_count": 95,
   "metadata": {},
   "outputs": [],
   "source": [
    "##Scale views by tiktok author - this prevents big accounts from outweighing smaller creators\n",
    "scaler = MinMaxScaler()\n",
    "\n",
    "for user in user_list:\n",
    "        norm_data = scaler.fit_transform(tiktoks.loc[tiktoks['user'] == user]['views'].values.reshape(-1, 1))\n",
    "        tiktoks.loc[tiktoks['user'] == user,'norm_data'] = norm_data"
   ]
  },
  {
   "cell_type": "code",
   "execution_count": null,
   "metadata": {},
   "outputs": [],
   "source": []
  },
  {
   "cell_type": "code",
   "execution_count": 96,
   "metadata": {},
   "outputs": [
    {
     "data": {
      "text/plain": [
       "array([[0.05675621],\n",
       "       [0.00294185],\n",
       "       [0.0030136 ],\n",
       "       [0.        ],\n",
       "       [0.00955743],\n",
       "       [0.04299409],\n",
       "       [0.44033064],\n",
       "       [0.5838356 ],\n",
       "       [0.0172206 ],\n",
       "       [0.01818208],\n",
       "       [0.00793582],\n",
       "       [0.01762241],\n",
       "       [0.00938522],\n",
       "       [0.00625682],\n",
       "       [0.0101745 ],\n",
       "       [0.04374031],\n",
       "       [0.00987314],\n",
       "       [0.00586935],\n",
       "       [0.00566845],\n",
       "       [0.0187561 ],\n",
       "       [0.02650537],\n",
       "       [0.04709833],\n",
       "       [0.0215401 ],\n",
       "       [0.01746455],\n",
       "       [0.01861259],\n",
       "       [0.02273119],\n",
       "       [0.03632111],\n",
       "       [0.04382642],\n",
       "       [0.02433844],\n",
       "       [0.66993858],\n",
       "       [0.0534843 ],\n",
       "       [0.49773262],\n",
       "       [0.10671029],\n",
       "       [0.41162964],\n",
       "       [0.0391051 ],\n",
       "       [0.04210436],\n",
       "       [0.03772746],\n",
       "       [0.04382642],\n",
       "       [0.04926525],\n",
       "       [0.03429769],\n",
       "       [0.02946157],\n",
       "       [0.02370702],\n",
       "       [0.02382182],\n",
       "       [0.0260318 ],\n",
       "       [0.12517938],\n",
       "       [0.02486941],\n",
       "       [0.02772516],\n",
       "       [0.0318581 ],\n",
       "       [0.04117157],\n",
       "       [1.        ]])"
      ]
     },
     "execution_count": 96,
     "metadata": {},
     "output_type": "execute_result"
    }
   ],
   "source": [
    "scaler = MinMaxScaler()\n",
    "norm_data = scaler.fit_transform(tiktoks.loc[tiktoks['user'] == 6805364861930783749]['views'].values.reshape(-1, 1))\n",
    "norm_data"
   ]
  },
  {
   "cell_type": "code",
   "execution_count": 97,
   "metadata": {},
   "outputs": [
    {
     "data": {
      "text/plain": [
       "array([[ 427100.],\n",
       "       [  52100.],\n",
       "       [  52600.],\n",
       "       [  31600.],\n",
       "       [  98200.],\n",
       "       [ 331200.],\n",
       "       [3100000.],\n",
       "       [4100000.],\n",
       "       [ 151600.],\n",
       "       [ 158300.],\n",
       "       [  86900.],\n",
       "       [ 154400.],\n",
       "       [  97000.],\n",
       "       [  75200.],\n",
       "       [ 102500.],\n",
       "       [ 336400.],\n",
       "       [ 100400.],\n",
       "       [  72500.],\n",
       "       [  71100.],\n",
       "       [ 162300.],\n",
       "       [ 216300.],\n",
       "       [ 359800.],\n",
       "       [ 181700.],\n",
       "       [ 153300.],\n",
       "       [ 161300.],\n",
       "       [ 190000.],\n",
       "       [ 284700.],\n",
       "       [ 337000.],\n",
       "       [ 201200.],\n",
       "       [4700000.],\n",
       "       [ 404300.],\n",
       "       [3500000.],\n",
       "       [ 775200.],\n",
       "       [2900000.],\n",
       "       [ 304100.],\n",
       "       [ 325000.],\n",
       "       [ 294500.],\n",
       "       [ 337000.],\n",
       "       [ 374900.],\n",
       "       [ 270600.],\n",
       "       [ 236900.],\n",
       "       [ 196800.],\n",
       "       [ 197600.],\n",
       "       [ 213000.],\n",
       "       [ 903900.],\n",
       "       [ 204900.],\n",
       "       [ 224800.],\n",
       "       [ 253600.],\n",
       "       [ 318500.],\n",
       "       [7000000.]])"
      ]
     },
     "execution_count": 97,
     "metadata": {},
     "output_type": "execute_result"
    }
   ],
   "source": [
    "##This is a demonstration of what numpy reshape does for the feature scaling. \n",
    "#The list needs to be a series of one value lists\n",
    "tiktoks.loc[tiktoks['user'] == 6805364861930783749]['views'].values.reshape(-1, 1)"
   ]
  },
  {
   "cell_type": "markdown",
   "metadata": {},
   "source": [
    "**Data Exploration**\n",
    "\n",
    "At this point we have all the data we need for some preliminary exploration. \n"
   ]
  },
  {
   "cell_type": "code",
   "execution_count": 98,
   "metadata": {},
   "outputs": [
    {
     "data": {
      "text/plain": [
       "(array([2807.,  377.,  149.,   79.,   47.,   34.,   24.,   17.,   11.,\n",
       "          96.]),\n",
       " array([0. , 0.1, 0.2, 0.3, 0.4, 0.5, 0.6, 0.7, 0.8, 0.9, 1. ]),\n",
       " <a list of 10 Patch objects>)"
      ]
     },
     "execution_count": 98,
     "metadata": {},
     "output_type": "execute_result"
    },
    {
     "data": {
      "image/png": "[encoded data removed]",
      "text/plain": [
       "<Figure size 432x288 with 1 Axes>"
      ]
     },
     "metadata": {
      "needs_background": "light"
     },
     "output_type": "display_data"
    }
   ],
   "source": [
    "plt.hist(tiktoks['norm_data'])"
   ]
  },
  {
   "cell_type": "code",
   "execution_count": 40,
   "metadata": {},
   "outputs": [],
   "source": [
    "binned = pd.cut(tiktoks['norm_data'], [0. , 0.1, 0.2, 0.3, 0.4, 0.5, 0.6, 0.7, 0.8, 0.9, 1.01 ],include_lowest=True, right=True).value_counts()\n",
    "tiktoks['bin'] = pd.cut(tiktoks['norm_data'], [0. , 0.1, 0.2, 0.3, 0.4, 0.5, 0.6, 0.7, 0.8, 0.9, 1.01 ],include_lowest=True, right=True)"
   ]
  },
  {
   "cell_type": "code",
   "execution_count": 41,
   "metadata": {},
   "outputs": [
    {
     "data": {
      "text/html": [
       "<div>\n",
       "<style scoped>\n",
       "    .dataframe tbody tr th:only-of-type {\n",
       "        vertical-align: middle;\n",
       "    }\n",
       "\n",
       "    .dataframe tbody tr th {\n",
       "        vertical-align: top;\n",
       "    }\n",
       "\n",
       "    .dataframe thead th {\n",
       "        text-align: right;\n",
       "    }\n",
       "</style>\n",
       "<table border=\"1\" class=\"dataframe\">\n",
       "  <thead>\n",
       "    <tr style=\"text-align: right;\">\n",
       "      <th></th>\n",
       "      <th>user</th>\n",
       "      <th>perc</th>\n",
       "    </tr>\n",
       "    <tr>\n",
       "      <th>bin</th>\n",
       "      <th></th>\n",
       "      <th></th>\n",
       "    </tr>\n",
       "  </thead>\n",
       "  <tbody>\n",
       "    <tr>\n",
       "      <th>(-0.001, 0.1]</th>\n",
       "      <td>1270</td>\n",
       "      <td>0.622244</td>\n",
       "    </tr>\n",
       "    <tr>\n",
       "      <th>(0.1, 0.2]</th>\n",
       "      <td>293</td>\n",
       "      <td>0.143557</td>\n",
       "    </tr>\n",
       "    <tr>\n",
       "      <th>(0.2, 0.3]</th>\n",
       "      <td>133</td>\n",
       "      <td>0.065164</td>\n",
       "    </tr>\n",
       "    <tr>\n",
       "      <th>(0.3, 0.4]</th>\n",
       "      <td>87</td>\n",
       "      <td>0.042626</td>\n",
       "    </tr>\n",
       "    <tr>\n",
       "      <th>(0.4, 0.5]</th>\n",
       "      <td>67</td>\n",
       "      <td>0.032827</td>\n",
       "    </tr>\n",
       "    <tr>\n",
       "      <th>(0.5, 0.6]</th>\n",
       "      <td>29</td>\n",
       "      <td>0.014209</td>\n",
       "    </tr>\n",
       "    <tr>\n",
       "      <th>(0.6, 0.7]</th>\n",
       "      <td>22</td>\n",
       "      <td>0.010779</td>\n",
       "    </tr>\n",
       "    <tr>\n",
       "      <th>(0.7, 0.8]</th>\n",
       "      <td>20</td>\n",
       "      <td>0.009799</td>\n",
       "    </tr>\n",
       "    <tr>\n",
       "      <th>(0.8, 0.9]</th>\n",
       "      <td>18</td>\n",
       "      <td>0.008819</td>\n",
       "    </tr>\n",
       "    <tr>\n",
       "      <th>(0.9, 1.01]</th>\n",
       "      <td>102</td>\n",
       "      <td>0.049976</td>\n",
       "    </tr>\n",
       "  </tbody>\n",
       "</table>\n",
       "</div>"
      ],
      "text/plain": [
       "               user      perc\n",
       "bin                          \n",
       "(-0.001, 0.1]  1270  0.622244\n",
       "(0.1, 0.2]      293  0.143557\n",
       "(0.2, 0.3]      133  0.065164\n",
       "(0.3, 0.4]       87  0.042626\n",
       "(0.4, 0.5]       67  0.032827\n",
       "(0.5, 0.6]       29  0.014209\n",
       "(0.6, 0.7]       22  0.010779\n",
       "(0.7, 0.8]       20  0.009799\n",
       "(0.8, 0.9]       18  0.008819\n",
       "(0.9, 1.01]     102  0.049976"
      ]
     },
     "execution_count": 41,
     "metadata": {},
     "output_type": "execute_result"
    }
   ],
   "source": [
    "bincount = pd.pivot_table(tiktoks,index='bin',values='user',aggfunc='count')\n",
    "bincount['perc']=bincount['user']/bincount['user'].sum()\n",
    "bincount"
   ]
  },
  {
   "cell_type": "code",
   "execution_count": 42,
   "metadata": {},
   "outputs": [
    {
     "data": {
      "text/html": [
       "<div>\n",
       "<style scoped>\n",
       "    .dataframe tbody tr th:only-of-type {\n",
       "        vertical-align: middle;\n",
       "    }\n",
       "\n",
       "    .dataframe tbody tr th {\n",
       "        vertical-align: top;\n",
       "    }\n",
       "\n",
       "    .dataframe thead th {\n",
       "        text-align: right;\n",
       "    }\n",
       "</style>\n",
       "<table border=\"1\" class=\"dataframe\">\n",
       "  <thead>\n",
       "    <tr style=\"text-align: right;\">\n",
       "      <th></th>\n",
       "      <th>views</th>\n",
       "      <th>perc</th>\n",
       "    </tr>\n",
       "    <tr>\n",
       "      <th>bin</th>\n",
       "      <th></th>\n",
       "      <th></th>\n",
       "    </tr>\n",
       "  </thead>\n",
       "  <tbody>\n",
       "    <tr>\n",
       "      <th>(-0.001, 0.1]</th>\n",
       "      <td>496630610.0</td>\n",
       "      <td>0.165221</td>\n",
       "    </tr>\n",
       "    <tr>\n",
       "      <th>(0.1, 0.2]</th>\n",
       "      <td>441096423.0</td>\n",
       "      <td>0.146745</td>\n",
       "    </tr>\n",
       "    <tr>\n",
       "      <th>(0.2, 0.3]</th>\n",
       "      <td>274229376.0</td>\n",
       "      <td>0.091231</td>\n",
       "    </tr>\n",
       "    <tr>\n",
       "      <th>(0.3, 0.4]</th>\n",
       "      <td>248729748.0</td>\n",
       "      <td>0.082748</td>\n",
       "    </tr>\n",
       "    <tr>\n",
       "      <th>(0.4, 0.5]</th>\n",
       "      <td>263736188.0</td>\n",
       "      <td>0.087741</td>\n",
       "    </tr>\n",
       "    <tr>\n",
       "      <th>(0.5, 0.6]</th>\n",
       "      <td>83441746.0</td>\n",
       "      <td>0.027760</td>\n",
       "    </tr>\n",
       "    <tr>\n",
       "      <th>(0.6, 0.7]</th>\n",
       "      <td>155617712.0</td>\n",
       "      <td>0.051771</td>\n",
       "    </tr>\n",
       "    <tr>\n",
       "      <th>(0.7, 0.8]</th>\n",
       "      <td>173173684.0</td>\n",
       "      <td>0.057612</td>\n",
       "    </tr>\n",
       "    <tr>\n",
       "      <th>(0.8, 0.9]</th>\n",
       "      <td>152506000.0</td>\n",
       "      <td>0.050736</td>\n",
       "    </tr>\n",
       "    <tr>\n",
       "      <th>(0.9, 1.01]</th>\n",
       "      <td>716703115.0</td>\n",
       "      <td>0.238435</td>\n",
       "    </tr>\n",
       "  </tbody>\n",
       "</table>\n",
       "</div>"
      ],
      "text/plain": [
       "                     views      perc\n",
       "bin                                 \n",
       "(-0.001, 0.1]  496630610.0  0.165221\n",
       "(0.1, 0.2]     441096423.0  0.146745\n",
       "(0.2, 0.3]     274229376.0  0.091231\n",
       "(0.3, 0.4]     248729748.0  0.082748\n",
       "(0.4, 0.5]     263736188.0  0.087741\n",
       "(0.5, 0.6]      83441746.0  0.027760\n",
       "(0.6, 0.7]     155617712.0  0.051771\n",
       "(0.7, 0.8]     173173684.0  0.057612\n",
       "(0.8, 0.9]     152506000.0  0.050736\n",
       "(0.9, 1.01]    716703115.0  0.238435"
      ]
     },
     "execution_count": 42,
     "metadata": {},
     "output_type": "execute_result"
    }
   ],
   "source": [
    "bindf = pd.pivot_table(tiktoks,index='bin',values='views',aggfunc='sum')\n",
    "bindf['perc'] = bindf['views']/bindf['views'].sum()\n",
    "bindf"
   ]
  },
  {
   "cell_type": "code",
   "execution_count": 43,
   "metadata": {},
   "outputs": [
    {
     "data": {
      "text/plain": [
       "<matplotlib.axes._subplots.AxesSubplot at 0xaafbb10>"
      ]
     },
     "execution_count": 43,
     "metadata": {},
     "output_type": "execute_result"
    },
    {
     "data": {
      "image/png": "[encoded data removed]",
      "text/plain": [
       "<Figure size 432x288 with 1 Axes>"
      ]
     },
     "metadata": {
      "needs_background": "light"
     },
     "output_type": "display_data"
    }
   ],
   "source": [
    "bindf['perc'].plot()\n",
    "bincount['perc'].plot()"
   ]
  },
  {
   "cell_type": "code",
   "execution_count": 44,
   "metadata": {
    "scrolled": true
   },
   "outputs": [
    {
     "data": {
      "text/plain": [
       "<matplotlib.axes._subplots.AxesSubplot at 0xab46f50>"
      ]
     },
     "execution_count": 44,
     "metadata": {},
     "output_type": "execute_result"
    },
    {
     "data": {
      "image/png": "[encoded data removed]",
      "text/plain": [
       "<Figure size 432x288 with 1 Axes>"
      ]
     },
     "metadata": {
      "needs_background": "light"
     },
     "output_type": "display_data"
    }
   ],
   "source": [
    "hourly_data = pd.pivot_table(tiktoks,index='hour',values='norm_data',aggfunc='mean')\n",
    "hourly_data.plot(kind='bar')"
   ]
  },
  {
   "cell_type": "code",
   "execution_count": 45,
   "metadata": {},
   "outputs": [
    {
     "data": {
      "text/plain": [
       "0     112\n",
       "1     117\n",
       "2     117\n",
       "3      83\n",
       "4      62\n",
       "5      48\n",
       "6      25\n",
       "7      17\n",
       "8      18\n",
       "9      29\n",
       "10     15\n",
       "11     30\n",
       "12     33\n",
       "13     50\n",
       "14     85\n",
       "15     87\n",
       "16     97\n",
       "17    137\n",
       "18    132\n",
       "19    153\n",
       "20    142\n",
       "21    131\n",
       "22    150\n",
       "23    171\n",
       "Name: hour, dtype: int64"
      ]
     },
     "execution_count": 45,
     "metadata": {},
     "output_type": "execute_result"
    }
   ],
   "source": [
    "pd.set_option('display.max_rows',30)\n",
    "\n",
    "tiktoks['hour'].value_counts().sort_index()"
   ]
  },
  {
   "cell_type": "code",
   "execution_count": 46,
   "metadata": {},
   "outputs": [
    {
     "data": {
      "text/plain": [
       "<matplotlib.axes._subplots.AxesSubplot at 0xabe6150>"
      ]
     },
     "execution_count": 46,
     "metadata": {},
     "output_type": "execute_result"
    },
    {
     "data": {
      "image/png": "[encoded data removed]",
      "text/plain": [
       "<Figure size 432x288 with 1 Axes>"
      ]
     },
     "metadata": {
      "needs_background": "light"
     },
     "output_type": "display_data"
    }
   ],
   "source": [
    "tiktoks['hour'].value_counts().sort_index()/tiktoks['hour'].value_counts().sum()\n",
    "p1 = tiktoks['hour'].value_counts().sort_index()/tiktoks['hour'].value_counts().sum()\n",
    "p1.plot()"
   ]
  },
  {
   "cell_type": "code",
   "execution_count": 47,
   "metadata": {},
   "outputs": [
    {
     "data": {
      "text/plain": [
       "0     10\n",
       "1      6\n",
       "2      9\n",
       "3      3\n",
       "4      3\n",
       "5      2\n",
       "6      1\n",
       "7      2\n",
       "8      1\n",
       "9      1\n",
       "11     3\n",
       "12     2\n",
       "13     2\n",
       "14     5\n",
       "15     5\n",
       "16     6\n",
       "17    11\n",
       "18     3\n",
       "19    10\n",
       "20     7\n",
       "21     7\n",
       "22     9\n",
       "23    12\n",
       "Name: hour, dtype: int64"
      ]
     },
     "execution_count": 47,
     "metadata": {},
     "output_type": "execute_result"
    }
   ],
   "source": [
    "tiktoks.loc[tiktoks['norm_data']>=.8]['hour'].value_counts().sort_index()"
   ]
  },
  {
   "cell_type": "code",
   "execution_count": 48,
   "metadata": {},
   "outputs": [
    {
     "data": {
      "text/plain": [
       "<matplotlib.axes._subplots.AxesSubplot at 0xac15c50>"
      ]
     },
     "execution_count": 48,
     "metadata": {},
     "output_type": "execute_result"
    },
    {
     "data": {
      "image/png": "[encoded data removed]",
      "text/plain": [
       "<Figure size 432x288 with 1 Axes>"
      ]
     },
     "metadata": {
      "needs_background": "light"
     },
     "output_type": "display_data"
    }
   ],
   "source": [
    "tiktoks.loc[tiktoks['norm_data']>=.8]['hour'].value_counts().sort_index()/tiktoks.loc[tiktoks['norm_data']>=.8]['hour'].value_counts().sum()\n",
    "p2 = tiktoks.loc[tiktoks['norm_data']>=.8]['hour'].value_counts().sort_index()/tiktoks.loc[tiktoks['norm_data']>=.8]['hour'].value_counts().sum()\n",
    "p2.plot()"
   ]
  },
  {
   "cell_type": "code",
   "execution_count": 49,
   "metadata": {},
   "outputs": [
    {
     "data": {
      "text/plain": [
       "<matplotlib.axes._subplots.AxesSubplot at 0xac5c250>"
      ]
     },
     "execution_count": 49,
     "metadata": {},
     "output_type": "execute_result"
    },
    {
     "data": {
      "image/png": "[encoded data removed]",
      "text/plain": [
       "<Figure size 432x288 with 1 Axes>"
      ]
     },
     "metadata": {
      "needs_background": "light"
     },
     "output_type": "display_data"
    }
   ],
   "source": [
    "p1.plot()\n",
    "p2.plot()"
   ]
  },
  {
   "cell_type": "code",
   "execution_count": 105,
   "metadata": {},
   "outputs": [
    {
     "data": {
      "text/plain": [
       "(0, 500000)"
      ]
     },
     "execution_count": 105,
     "metadata": {},
     "output_type": "execute_result"
    },
    {
     "data": {
      "image/png": "[encoded data removed]",
      "text/plain": [
       "<Figure size 432x288 with 1 Axes>"
      ]
     },
     "metadata": {
      "needs_background": "light"
     },
     "output_type": "display_data"
    }
   ],
   "source": [
    "## Compare views received to # of fans. a\n",
    "fanviewratio = pd.pivot_table(tiktoks, index = 'user', values =['views','fans'], aggfunc='mean')\n",
    "fanviewratio.plot.scatter(x='views',y='fans')\n",
    "plt.ylim(0,500000)"
   ]
  },
  {
   "cell_type": "code",
   "execution_count": 57,
   "metadata": {},
   "outputs": [
    {
     "data": {
      "text/plain": [
       "0.6053760173938888"
      ]
     },
     "execution_count": 57,
     "metadata": {},
     "output_type": "execute_result"
    }
   ],
   "source": [
    "##Correlation\n",
    "fanviewratio['views'].corr(fanviewratio['fans'],method='pearson')"
   ]
  },
  {
   "cell_type": "code",
   "execution_count": 106,
   "metadata": {},
   "outputs": [
    {
     "data": {
      "text/plain": [
       "0.23864744387276074"
      ]
     },
     "execution_count": 106,
     "metadata": {},
     "output_type": "execute_result"
    }
   ],
   "source": [
    "##Correlation for small fan base\n",
    "smallfans = fanviewratio.loc[fanviewratio['fans']<=500000]\n",
    "smallfans['views'].corr(smallfans['fans'],method='pearson')"
   ]
  },
  {
   "cell_type": "code",
   "execution_count": 107,
   "metadata": {},
   "outputs": [
    {
     "data": {
      "text/plain": [
       "<matplotlib.axes._subplots.AxesSubplot at 0xc86ff10>"
      ]
     },
     "execution_count": 107,
     "metadata": {},
     "output_type": "execute_result"
    },
    {
     "data": {
      "image/png": "[encoded data removed]",
      "text/plain": [
       "<Figure size 432x288 with 1 Axes>"
      ]
     },
     "metadata": {
      "needs_background": "light"
     },
     "output_type": "display_data"
    }
   ],
   "source": [
    "##Same data as above but different x scale. Great example that scale matters!!!\n",
    "smallfans.plot.scatter(x='views',y='fans')"
   ]
  },
  {
   "cell_type": "code",
   "execution_count": 86,
   "metadata": {},
   "outputs": [
    {
     "data": {
      "image/png": "[encoded data removed]",
      "text/plain": [
       "<Figure size 1152x1152 with 7 Axes>"
      ]
     },
     "metadata": {
      "needs_background": "light"
     },
     "output_type": "display_data"
    }
   ],
   "source": [
    "##Show best time of day to post by day\n",
    "\n",
    "fig = plt.figure(figsize=(16,16))\n",
    "for day in range(0,7):\n",
    "    ax = fig.add_subplot(3,3,day+1)\n",
    "    pd.pivot_table(tiktoks.loc[tiktoks['day'] == day],index='hour',values='norm_data',aggfunc='mean').plot(kind='bar', ax=ax)\n",
    "    ax.set_title('{}'.format(day))\n",
    "    \n",
    "plt.show()"
   ]
  },
  {
   "cell_type": "code",
   "execution_count": 108,
   "metadata": {},
   "outputs": [
    {
     "data": {
      "text/plain": [
       "<matplotlib.axes._subplots.AxesSubplot at 0xc7313d0>"
      ]
     },
     "execution_count": 108,
     "metadata": {},
     "output_type": "execute_result"
    },
    {
     "data": {
      "image/png": "[encoded data removed]",
      "text/plain": [
       "<Figure size 432x288 with 1 Axes>"
      ]
     },
     "metadata": {
      "needs_background": "light"
     },
     "output_type": "display_data"
    }
   ],
   "source": [
    "##Best day of the week to post\n",
    "pd.pivot_table(tiktoks,index='day',values='norm_data',aggfunc='mean').plot(kind='bar')\n"
   ]
  },
  {
   "cell_type": "code",
   "execution_count": 111,
   "metadata": {},
   "outputs": [
    {
     "data": {
      "text/plain": [
       "<matplotlib.axes._subplots.AxesSubplot at 0xd968610>"
      ]
     },
     "execution_count": 111,
     "metadata": {},
     "output_type": "execute_result"
    },
    {
     "data": {
      "image/png": "[encoded data removed]",
      "text/plain": [
       "<Figure size 432x288 with 1 Axes>"
      ]
     },
     "metadata": {
      "needs_background": "light"
     },
     "output_type": "display_data"
    }
   ],
   "source": [
    "#day of week when viral videos are posted\n",
    "pd.pivot_table(tiktoks.loc[tiktoks['norm_data']>=.8],index='day',values='norm_data',aggfunc='count').plot(kind='bar')\n"
   ]
  },
  {
   "cell_type": "code",
   "execution_count": 112,
   "metadata": {},
   "outputs": [
    {
     "data": {
      "text/plain": [
       "<matplotlib.axes._subplots.AxesSubplot at 0xc7be670>"
      ]
     },
     "execution_count": 112,
     "metadata": {},
     "output_type": "execute_result"
    },
    {
     "data": {
      "image/png": "[encoded data removed]",
      "text/plain": [
       "<Figure size 432x288 with 1 Axes>"
      ]
     },
     "metadata": {
      "needs_background": "light"
     },
     "output_type": "display_data"
    }
   ],
   "source": [
    "#\n",
    "pd.pivot_table(tiktoks,index='day',values='norm_data',aggfunc='count').plot(kind='bar')\n"
   ]
  },
  {
   "cell_type": "code",
   "execution_count": 115,
   "metadata": {},
   "outputs": [
    {
     "data": {
      "text/plain": [
       "<matplotlib.axes._subplots.AxesSubplot at 0xcac1050>"
      ]
     },
     "execution_count": 115,
     "metadata": {},
     "output_type": "execute_result"
    },
    {
     "data": {
      "image/png": "[encoded data removed]",
      "text/plain": [
       "<Figure size 432x288 with 1 Axes>"
      ]
     },
     "metadata": {
      "needs_background": "light"
     },
     "output_type": "display_data"
    }
   ],
   "source": [
    "ratio = pd.pivot_table(tiktoks.loc[tiktoks['norm_data']>=.8],index='day',values='norm_data',aggfunc='count')/pd.pivot_table(tiktoks,index='day',values='norm_data',aggfunc='count')\n",
    "ratio.plot(kind='bar')"
   ]
  },
  {
   "cell_type": "code",
   "execution_count": null,
   "metadata": {},
   "outputs": [],
   "source": []
  }
 ],
 "metadata": {
  "kernelspec": {
   "display_name": "Python 3",
   "language": "python",
   "name": "python3"
  },
  "language_info": {
   "codemirror_mode": {
    "name": "ipython",
    "version": 3
   },
   "file_extension": ".py",
   "mimetype": "text/x-python",
   "name": "python",
   "nbconvert_exporter": "python",
   "pygments_lexer": "ipython3",
   "version": "3.7.6"
  }
 },
 "nbformat": 4,
 "nbformat_minor": 4
}
