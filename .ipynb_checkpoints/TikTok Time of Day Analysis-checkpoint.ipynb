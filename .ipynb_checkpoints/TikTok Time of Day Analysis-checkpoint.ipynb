{
 "cells": [
  {
   "cell_type": "markdown",
   "metadata": {},
   "source": [
    "## What's the best time of day to post to tiktok?\n",
    "\n",
    "My wife downloaded tiktok last year when we were deep into quarantine and it felt like it was never going to end. \n",
    "One of her first videos went viral, it's up near 7 figure views as this point. I'll go on the record saying she's \n",
    "creative enought to earn that and for now let's all pretend that there's nothing malicious on [TikToks part about that](https://twitter.com/ChrisWillx/status/1351840551033778176).\n",
    "Regardless, she was hooked.\n",
    "\n",
    "Before long, she was spending hours in front of a ring light building up content inventory like a true creator. Usually this\n",
    "meant a Sunday afternoon where she'd make 3-4 videos that she could post througout the week. The key of course, is \n",
    "to pick strategic times to post that content. There's an ROI to achieve here.\n",
    "\n",
    "A google search will reveal a table with the 'best' times to post. With the growth of influencer marketing and social media\n",
    "as a hobby I figured she'd find a website dedicated to such strategy. In reality,  we found sparse details being pitched\n",
    "as surefire. That google search will point you to to one company who claims to have analyzed 100k+ videos.\n",
    "All they provide is a list of a few times. All the other search results point to the same article. \n",
    "\n",
    "I think this is far from sufficient in answering the question. I also think it's a great open source opportunity for a \n",
    "transparent analysis.\n",
    "\n",
    "The following outlines my analysis of when to post to tiktok. I've looked at ~175 users, and ~9000 videos. I outline the analysis and I have provided explanations for the corresponding python code."
   ]
  },
  {
   "cell_type": "code",
   "execution_count": 6,
   "metadata": {},
   "outputs": [],
   "source": [
    "import datetime as dt\n",
    "import pickle\n",
    "import pandas as pd \n",
    "from sklearn.preprocessing import MinMaxScaler\n",
    "import matplotlib.pyplot as plt"
   ]
  },
  {
   "cell_type": "markdown",
   "metadata": {},
   "source": [
    "The only import i'll call out is scikitlearn's MinMaxScaler class. I'll discuss this more when I use it."
   ]
  },
  {
   "cell_type": "markdown",
   "metadata": {},
   "source": [
    "I'm not including the code I used to pull the data from tiktok in this summary. \n",
    "It's available in the repository for review. I used David Teather's unofficial [tiktok api](https://github.com/davidteather/TikTok-Api). \n",
    "He provides decent documentation and I didn't do much on top of using the basic methods. \n",
    "So below I'm just importing a pickle, which is the outcome of the data sourcing script.\n",
    "\n",
    "A quick summary of that data pull\n",
    "    -Randomly select handful of accounts\n",
    "    -Pull in 30 \"suggested by tik tok\" users for each \"starter\" selection\n",
    "    -Select the last 50 videos from all of these users\n",
    "    -This equates to ~9000 videos and 177 users.\n",
    "    \n",
    "Given tiktok doesn't have an official API I can use to pull this info, it's been inconsistent when I try to scale the dataset.\n",
    "I plan to continue improving the data pull so that I can grow the sample size here."
   ]
  },
  {
   "cell_type": "code",
   "execution_count": 7,
   "metadata": {},
   "outputs": [],
   "source": [
    "#Read in data\n",
    "pkl_file = open('tiktoklist3.pickle', 'rb')\n",
    "tiktok_pkl = pickle.load(pkl_file)"
   ]
  },
  {
   "cell_type": "markdown",
   "metadata": {},
   "source": [
    "Transform the dictionary in the pickle to a pandas dataframe. Each value is a different video, where we can use the video_id as the index. Each video has a user and that user's number of follower, called fans by tiktok developers. I've also brought in \n",
    "the views and time it was posted.\n",
    "\n",
    "For my analysis I've decided to use views as the KPI. An alternative approach might be to measure engagement. I haven't studied\n",
    "Tiktok's algorithm in detail. A skim across the internet will tell you it rewards videos for engagement. If you're trying to\n",
    "monetize your channel engagement is also important. However, in the end I think the average person is chasing views. Given most\n",
    "people aren't making money of tiktok, engagement seems to be inferior. "
   ]
  },
  {
   "cell_type": "code",
   "execution_count": 16,
   "metadata": {},
   "outputs": [
    {
     "data": {
      "text/html": [
       "<div>\n",
       "<style scoped>\n",
       "    .dataframe tbody tr th:only-of-type {\n",
       "        vertical-align: middle;\n",
       "    }\n",
       "\n",
       "    .dataframe tbody tr th {\n",
       "        vertical-align: top;\n",
       "    }\n",
       "\n",
       "    .dataframe thead th {\n",
       "        text-align: right;\n",
       "    }\n",
       "</style>\n",
       "<table border=\"1\" class=\"dataframe\">\n",
       "  <thead>\n",
       "    <tr style=\"text-align: right;\">\n",
       "      <th></th>\n",
       "      <th>user</th>\n",
       "      <th>fans</th>\n",
       "      <th>views</th>\n",
       "      <th>posttime</th>\n",
       "    </tr>\n",
       "    <tr>\n",
       "      <th>video_id</th>\n",
       "      <th></th>\n",
       "      <th></th>\n",
       "      <th></th>\n",
       "      <th></th>\n",
       "    </tr>\n",
       "  </thead>\n",
       "  <tbody>\n",
       "    <tr>\n",
       "      <th>6929135730618879237</th>\n",
       "      <td>6700343527676740613</td>\n",
       "      <td>5800000</td>\n",
       "      <td>95200</td>\n",
       "      <td>1613315144</td>\n",
       "    </tr>\n",
       "    <tr>\n",
       "      <th>6928770891627121926</th>\n",
       "      <td>6700343527676740613</td>\n",
       "      <td>5800000</td>\n",
       "      <td>1800000</td>\n",
       "      <td>1613230198</td>\n",
       "    </tr>\n",
       "    <tr>\n",
       "      <th>6928372946792664326</th>\n",
       "      <td>6700343527676740613</td>\n",
       "      <td>5800000</td>\n",
       "      <td>218200</td>\n",
       "      <td>1613137548</td>\n",
       "    </tr>\n",
       "    <tr>\n",
       "      <th>6928012472490265861</th>\n",
       "      <td>6700343527676740613</td>\n",
       "      <td>5800000</td>\n",
       "      <td>143000</td>\n",
       "      <td>1613053619</td>\n",
       "    </tr>\n",
       "    <tr>\n",
       "      <th>6927642059599908102</th>\n",
       "      <td>6700343527676740613</td>\n",
       "      <td>5800000</td>\n",
       "      <td>265400</td>\n",
       "      <td>1612967376</td>\n",
       "    </tr>\n",
       "  </tbody>\n",
       "</table>\n",
       "</div>"
      ],
      "text/plain": [
       "                                    user     fans    views    posttime\n",
       "video_id                                                              \n",
       "6929135730618879237  6700343527676740613  5800000    95200  1613315144\n",
       "6928770891627121926  6700343527676740613  5800000  1800000  1613230198\n",
       "6928372946792664326  6700343527676740613  5800000   218200  1613137548\n",
       "6928012472490265861  6700343527676740613  5800000   143000  1613053619\n",
       "6927642059599908102  6700343527676740613  5800000   265400  1612967376"
      ]
     },
     "execution_count": 16,
     "metadata": {},
     "output_type": "execute_result"
    }
   ],
   "source": [
    "#Create Dataframe\n",
    "tiktoks = pd.DataFrame.from_dict(tiktok_pkl,orient='index')\n",
    "tiktoks.index.name = 'video_id'\n",
    "tiktoks.head()"
   ]
  },
  {
   "cell_type": "markdown",
   "metadata": {},
   "source": [
    "I always check for duplicates, data is never as clean as you think it is."
   ]
  },
  {
   "cell_type": "code",
   "execution_count": 9,
   "metadata": {},
   "outputs": [
    {
     "data": {
      "text/html": [
       "<div>\n",
       "<style scoped>\n",
       "    .dataframe tbody tr th:only-of-type {\n",
       "        vertical-align: middle;\n",
       "    }\n",
       "\n",
       "    .dataframe tbody tr th {\n",
       "        vertical-align: top;\n",
       "    }\n",
       "\n",
       "    .dataframe thead th {\n",
       "        text-align: right;\n",
       "    }\n",
       "</style>\n",
       "<table border=\"1\" class=\"dataframe\">\n",
       "  <thead>\n",
       "    <tr style=\"text-align: right;\">\n",
       "      <th></th>\n",
       "      <th>user</th>\n",
       "      <th>fans</th>\n",
       "      <th>views</th>\n",
       "      <th>posttime</th>\n",
       "    </tr>\n",
       "    <tr>\n",
       "      <th>video_id</th>\n",
       "      <th></th>\n",
       "      <th></th>\n",
       "      <th></th>\n",
       "      <th></th>\n",
       "    </tr>\n",
       "  </thead>\n",
       "  <tbody>\n",
       "  </tbody>\n",
       "</table>\n",
       "</div>"
      ],
      "text/plain": [
       "Empty DataFrame\n",
       "Columns: [user, fans, views, posttime]\n",
       "Index: []"
      ]
     },
     "execution_count": 9,
     "metadata": {},
     "output_type": "execute_result"
    }
   ],
   "source": [
    "##Prints Duplicates if any and then drops them\n",
    "tiktoks.loc[tiktoks.duplicated()]"
   ]
  },
  {
   "cell_type": "code",
   "execution_count": null,
   "metadata": {},
   "outputs": [],
   "source": [
    "##Drop Duplicates\n",
    "tiktoks = tiktoks.drop_duplicates()"
   ]
  },
  {
   "cell_type": "code",
   "execution_count": 23,
   "metadata": {},
   "outputs": [],
   "source": [
    "## Drop anyone with < 5 videos, not enough sample size for normalization\n",
    "tikgroup = tiktoks.groupby(by='user').count().sort_values(by='posttime')\n",
    "tikgroup = tikgroup.loc[tikgroup['posttime'] < 5]\n",
    "ul = tikgroup.index\n",
    "\n",
    "for user in ul:\n",
    "    to_drop = tiktoks.loc[tiktoks['user'] == user].index\n",
    "    tiktoks.drop(to_drop,inplace=True)"
   ]
  },
  {
   "cell_type": "markdown",
   "metadata": {},
   "source": [
    "## Adding Features\n",
    "Given we're doing a review of when to post, I've done some up front work to make datetime features easily accesible in our dataframe."
   ]
  },
  {
   "cell_type": "code",
   "execution_count": 24,
   "metadata": {},
   "outputs": [],
   "source": [
    "##Add a few variables\n",
    "tiktoks['posttime'] = pd.to_datetime(tiktoks['posttime'],unit='s')\n",
    "tiktoks['date'] = tiktoks['posttime'].dt.date\n",
    "tiktoks['hour'] = tiktoks['posttime'].dt.hour\n",
    "tiktoks['day'] = tiktoks['posttime'].dt.weekday"
   ]
  },
  {
   "cell_type": "markdown",
   "metadata": {},
   "source": [
    "Before we go any further on the time analysis, I want to understand the users of these videos. This is important because of\n",
    "the stark differences in the people who view videos vs the people creating those videos."
   ]
  },
  {
   "cell_type": "code",
   "execution_count": 25,
   "metadata": {},
   "outputs": [
    {
     "data": {
      "text/html": [
       "<div>\n",
       "<style scoped>\n",
       "    .dataframe tbody tr th:only-of-type {\n",
       "        vertical-align: middle;\n",
       "    }\n",
       "\n",
       "    .dataframe tbody tr th {\n",
       "        vertical-align: top;\n",
       "    }\n",
       "\n",
       "    .dataframe thead th {\n",
       "        text-align: right;\n",
       "    }\n",
       "</style>\n",
       "<table border=\"1\" class=\"dataframe\">\n",
       "  <thead>\n",
       "    <tr style=\"text-align: right;\">\n",
       "      <th></th>\n",
       "      <th>user</th>\n",
       "      <th>fans</th>\n",
       "    </tr>\n",
       "  </thead>\n",
       "  <tbody>\n",
       "    <tr>\n",
       "      <th>166</th>\n",
       "      <td>2.253951e+17</td>\n",
       "      <td>1247</td>\n",
       "    </tr>\n",
       "    <tr>\n",
       "      <th>163</th>\n",
       "      <td>6.761958e+18</td>\n",
       "      <td>8475</td>\n",
       "    </tr>\n",
       "    <tr>\n",
       "      <th>152</th>\n",
       "      <td>2.259336e+17</td>\n",
       "      <td>11000</td>\n",
       "    </tr>\n",
       "    <tr>\n",
       "      <th>25</th>\n",
       "      <td>6.709482e+18</td>\n",
       "      <td>13400</td>\n",
       "    </tr>\n",
       "    <tr>\n",
       "      <th>154</th>\n",
       "      <td>2.886850e+07</td>\n",
       "      <td>14600</td>\n",
       "    </tr>\n",
       "    <tr>\n",
       "      <th>...</th>\n",
       "      <td>...</td>\n",
       "      <td>...</td>\n",
       "    </tr>\n",
       "    <tr>\n",
       "      <th>107</th>\n",
       "      <td>2.464515e+07</td>\n",
       "      <td>27600000</td>\n",
       "    </tr>\n",
       "    <tr>\n",
       "      <th>93</th>\n",
       "      <td>6.616242e+18</td>\n",
       "      <td>29500000</td>\n",
       "    </tr>\n",
       "    <tr>\n",
       "      <th>35</th>\n",
       "      <td>6.745192e+18</td>\n",
       "      <td>32600000</td>\n",
       "    </tr>\n",
       "    <tr>\n",
       "      <th>32</th>\n",
       "      <td>6.727327e+18</td>\n",
       "      <td>48000000</td>\n",
       "    </tr>\n",
       "    <tr>\n",
       "      <th>96</th>\n",
       "      <td>6.524905e+18</td>\n",
       "      <td>51400000</td>\n",
       "    </tr>\n",
       "  </tbody>\n",
       "</table>\n",
       "<p>172 rows × 2 columns</p>\n",
       "</div>"
      ],
      "text/plain": [
       "             user      fans\n",
       "166  2.253951e+17      1247\n",
       "163  6.761958e+18      8475\n",
       "152  2.259336e+17     11000\n",
       "25   6.709482e+18     13400\n",
       "154  2.886850e+07     14600\n",
       "..            ...       ...\n",
       "107  2.464515e+07  27600000\n",
       "93   6.616242e+18  29500000\n",
       "35   6.745192e+18  32600000\n",
       "32   6.727327e+18  48000000\n",
       "96   6.524905e+18  51400000\n",
       "\n",
       "[172 rows x 2 columns]"
      ]
     },
     "execution_count": 25,
     "metadata": {},
     "output_type": "execute_result"
    }
   ],
   "source": [
    "##Let's also split users up by their fan count\n",
    "user_df = tiktoks.drop_duplicates(subset=['user']).loc[:,['user','fans']].reset_index(drop=True)\n",
    "\n",
    "user_df.sort_values(by=['fans'])\n",
    "##plt.hist(tiktoks['fans'])   "
   ]
  },
  {
   "cell_type": "markdown",
   "metadata": {},
   "source": [
    "## Data Normalization\n",
    "We have a user with 51 million followers and one with 1200 followers. It's not really a fair if we compare the views\n",
    "for these two people.\n",
    "\n",
    "What we need to do is normalize that date.\n",
    "\n",
    "An oversimplified explanation is that we need to match the scale for all users. \n",
    "I need to transform all views to be between 0 and 1 for each user, where 1 is their highest viewed video. \n",
    "\n",
    "If 1 is the best for each individual, I can compare each users 1 as equivalents."
   ]
  },
  {
   "cell_type": "code",
   "execution_count": 26,
   "metadata": {},
   "outputs": [],
   "source": [
    "##Alter a few datatypes for series - necessary for scikitlearn method\n",
    "tiktoks['user'] = tiktoks['user'].astype('float64')\n",
    "tiktoks['views'] = tiktoks['views'].astype('float64')"
   ]
  },
  {
   "cell_type": "markdown",
   "metadata": {},
   "source": [
    "I'll need to tell the scaler that we're scaling many subsets. We don't want it to convert all video views on the same\n",
    "0 to 1 scale. We will need to reset what 1 is for every user. To do that, we need a list of unique users to iterate through."
   ]
  },
  {
   "cell_type": "code",
   "execution_count": 27,
   "metadata": {},
   "outputs": [
    {
     "data": {
      "text/plain": [
       "0      6.700344e+18\n",
       "1      6.866499e+18\n",
       "2      6.805365e+18\n",
       "3      6.648626e+18\n",
       "4      6.793185e+18\n",
       "           ...     \n",
       "167    6.767040e+18\n",
       "168    6.841663e+18\n",
       "169    6.746036e+18\n",
       "170    6.786296e+18\n",
       "171    6.815256e+18\n",
       "Name: user, Length: 172, dtype: float64"
      ]
     },
     "execution_count": 27,
     "metadata": {},
     "output_type": "execute_result"
    }
   ],
   "source": [
    "##Create list of unique values to iterate through for normalization\n",
    "user_list = user_df['user']\n",
    "user_list"
   ]
  },
  {
   "cell_type": "code",
   "execution_count": 28,
   "metadata": {},
   "outputs": [],
   "source": [
    "##Scale views by tiktok author - this prevents big accounts from outweighing smaller creators\n",
    "scaler = MinMaxScaler()\n",
    "\n",
    "for user in user_list:\n",
    "        norm_data = scaler.fit_transform(tiktoks.loc[tiktoks['user'] == user]['views'].values.reshape(-1, 1))\n",
    "        tiktoks.loc[tiktoks['user'] == user,'norm_data'] = norm_data"
   ]
  },
  {
   "cell_type": "code",
   "execution_count": 42,
   "metadata": {},
   "outputs": [
    {
     "data": {
      "text/plain": [
       "array([[ 434300.],\n",
       "       [  54000.],\n",
       "       [  53200.],\n",
       "       [  32200.],\n",
       "       [  99000.],\n",
       "       [ 332700.],\n",
       "       [3100000.],\n",
       "       [4100000.],\n",
       "       [ 152300.]])"
      ]
     },
     "execution_count": 42,
     "metadata": {},
     "output_type": "execute_result"
    }
   ],
   "source": [
    "##This is a demonstration of what numpy reshape does for the feature scaling. \n",
    "#The list needs to be a series of one value lists\n",
    "#.values will turn the series into an np array\n",
    "#.reshape turns each value in the array into it's own list and creates a list of lists\n",
    "# I'm just selecting the top 10 in the list for brevity\n",
    "tiktoks.loc[tiktoks['user'] == 6805364861930783749]['views'].values.reshape(-1, 1)[0:9]"
   ]
  },
  {
   "cell_type": "markdown",
   "metadata": {},
   "source": [
    "## Analysis\n",
    "\n",
    "We have now modified and cleaned the data! Time to evaluate when one should post.\n",
    "\n",
    "First let's understand how often people have viral videos. "
   ]
  },
  {
   "cell_type": "code",
   "execution_count": 44,
   "metadata": {},
   "outputs": [
    {
     "data": {
      "text/plain": [
       "(array([6273.,  839.,  349.,  191.,  113.,   59.,   34.,   43.,   32.,\n",
       "         189.]),\n",
       " array([0. , 0.1, 0.2, 0.3, 0.4, 0.5, 0.6, 0.7, 0.8, 0.9, 1. ]),\n",
       " <a list of 10 Patch objects>)"
      ]
     },
     "execution_count": 44,
     "metadata": {},
     "output_type": "execute_result"
    },
    {
     "data": {
      "image/png": "[encoded data removed]",
      "text/plain": [
       "<Figure size 432x288 with 1 Axes>"
      ]
     },
     "metadata": {
      "needs_background": "light"
     },
     "output_type": "display_data"
    }
   ],
   "source": [
    "plt.hist(tiktoks['norm_data'])"
   ]
  },
  {
   "cell_type": "markdown",
   "metadata": {},
   "source": [
    "This is about what I expected. People have a few viral videos that get exponentially higher amounts of views than their\n",
    "normal videos. The bulk of your time is spent on videos that won't have near the success of that dopamine rush you got\n",
    "when a video blew up."
   ]
  },
  {
   "cell_type": "markdown",
   "metadata": {},
   "source": [
    "The bins on the x-axis for the histogram above are auto generated by matplotlib. I want to manually assign these bins\n",
    "to the videos in our dataframe so that we can use them in other views. "
   ]
  },
  {
   "cell_type": "code",
   "execution_count": 50,
   "metadata": {},
   "outputs": [],
   "source": [
    "#Add bins to data\n",
    "binned = pd.cut(tiktoks['norm_data'], [0. , 0.1, 0.2, 0.3, 0.4, 0.5, 0.6, 0.7, 0.8, 0.9, 1.01 ],include_lowest=True, right=True).value_counts()\n",
    "tiktoks['bin'] = pd.cut(tiktoks['norm_data'], [0. , 0.1, 0.2, 0.3, 0.4, 0.5, 0.6, 0.7, 0.8, 0.9, 1.01 ],include_lowest=True, right=True)"
   ]
  },
  {
   "cell_type": "markdown",
   "metadata": {},
   "source": [
    "I can pivot on the bins now to see the count of vidoes per bin. From there I can see what percent of videos are made up\n",
    "of each bin. This will put a more concerte number on the observation from the histogram.\n",
    "\n",
    "87% of all videos are <.2. "
   ]
  },
  {
   "cell_type": "code",
   "execution_count": 51,
   "metadata": {},
   "outputs": [
    {
     "data": {
      "text/html": [
       "<div>\n",
       "<style scoped>\n",
       "    .dataframe tbody tr th:only-of-type {\n",
       "        vertical-align: middle;\n",
       "    }\n",
       "\n",
       "    .dataframe tbody tr th {\n",
       "        vertical-align: top;\n",
       "    }\n",
       "\n",
       "    .dataframe thead th {\n",
       "        text-align: right;\n",
       "    }\n",
       "</style>\n",
       "<table border=\"1\" class=\"dataframe\">\n",
       "  <thead>\n",
       "    <tr style=\"text-align: right;\">\n",
       "      <th></th>\n",
       "      <th>user</th>\n",
       "      <th>perc</th>\n",
       "    </tr>\n",
       "    <tr>\n",
       "      <th>bin</th>\n",
       "      <th></th>\n",
       "      <th></th>\n",
       "    </tr>\n",
       "  </thead>\n",
       "  <tbody>\n",
       "    <tr>\n",
       "      <th>(-0.001, 0.1]</th>\n",
       "      <td>6273</td>\n",
       "      <td>0.772347</td>\n",
       "    </tr>\n",
       "    <tr>\n",
       "      <th>(0.1, 0.2]</th>\n",
       "      <td>839</td>\n",
       "      <td>0.103300</td>\n",
       "    </tr>\n",
       "    <tr>\n",
       "      <th>(0.2, 0.3]</th>\n",
       "      <td>349</td>\n",
       "      <td>0.042970</td>\n",
       "    </tr>\n",
       "    <tr>\n",
       "      <th>(0.3, 0.4]</th>\n",
       "      <td>191</td>\n",
       "      <td>0.023516</td>\n",
       "    </tr>\n",
       "    <tr>\n",
       "      <th>(0.4, 0.5]</th>\n",
       "      <td>113</td>\n",
       "      <td>0.013913</td>\n",
       "    </tr>\n",
       "    <tr>\n",
       "      <th>(0.5, 0.6]</th>\n",
       "      <td>59</td>\n",
       "      <td>0.007264</td>\n",
       "    </tr>\n",
       "    <tr>\n",
       "      <th>(0.6, 0.7]</th>\n",
       "      <td>34</td>\n",
       "      <td>0.004186</td>\n",
       "    </tr>\n",
       "    <tr>\n",
       "      <th>(0.7, 0.8]</th>\n",
       "      <td>43</td>\n",
       "      <td>0.005294</td>\n",
       "    </tr>\n",
       "    <tr>\n",
       "      <th>(0.8, 0.9]</th>\n",
       "      <td>32</td>\n",
       "      <td>0.003940</td>\n",
       "    </tr>\n",
       "    <tr>\n",
       "      <th>(0.9, 1.01]</th>\n",
       "      <td>189</td>\n",
       "      <td>0.023270</td>\n",
       "    </tr>\n",
       "  </tbody>\n",
       "</table>\n",
       "</div>"
      ],
      "text/plain": [
       "               user      perc\n",
       "bin                          \n",
       "(-0.001, 0.1]  6273  0.772347\n",
       "(0.1, 0.2]      839  0.103300\n",
       "(0.2, 0.3]      349  0.042970\n",
       "(0.3, 0.4]      191  0.023516\n",
       "(0.4, 0.5]      113  0.013913\n",
       "(0.5, 0.6]       59  0.007264\n",
       "(0.6, 0.7]       34  0.004186\n",
       "(0.7, 0.8]       43  0.005294\n",
       "(0.8, 0.9]       32  0.003940\n",
       "(0.9, 1.01]     189  0.023270"
      ]
     },
     "execution_count": 51,
     "metadata": {},
     "output_type": "execute_result"
    }
   ],
   "source": [
    "bincount = pd.pivot_table(tiktoks,index='bin',values='user',aggfunc='count')\n",
    "bincount['perc']=bincount['user']/bincount['user'].sum()\n",
    "bincount"
   ]
  },
  {
   "cell_type": "markdown",
   "metadata": {},
   "source": [
    "While the number of videos that are viral, let's define viral as > .8, that doesn't necessarily correspond \n",
    "with their impact on total views.\n",
    "\n",
    "Let's see the mix of views by bin."
   ]
  },
  {
   "cell_type": "code",
   "execution_count": 52,
   "metadata": {},
   "outputs": [
    {
     "data": {
      "text/html": [
       "<div>\n",
       "<style scoped>\n",
       "    .dataframe tbody tr th:only-of-type {\n",
       "        vertical-align: middle;\n",
       "    }\n",
       "\n",
       "    .dataframe tbody tr th {\n",
       "        vertical-align: top;\n",
       "    }\n",
       "\n",
       "    .dataframe thead th {\n",
       "        text-align: right;\n",
       "    }\n",
       "</style>\n",
       "<table border=\"1\" class=\"dataframe\">\n",
       "  <thead>\n",
       "    <tr style=\"text-align: right;\">\n",
       "      <th></th>\n",
       "      <th>views</th>\n",
       "      <th>perc</th>\n",
       "    </tr>\n",
       "    <tr>\n",
       "      <th>bin</th>\n",
       "      <th></th>\n",
       "      <th></th>\n",
       "    </tr>\n",
       "  </thead>\n",
       "  <tbody>\n",
       "    <tr>\n",
       "      <th>(-0.001, 0.1]</th>\n",
       "      <td>3.077338e+09</td>\n",
       "      <td>0.258511</td>\n",
       "    </tr>\n",
       "    <tr>\n",
       "      <th>(0.1, 0.2]</th>\n",
       "      <td>1.926542e+09</td>\n",
       "      <td>0.161839</td>\n",
       "    </tr>\n",
       "    <tr>\n",
       "      <th>(0.2, 0.3]</th>\n",
       "      <td>1.657502e+09</td>\n",
       "      <td>0.139238</td>\n",
       "    </tr>\n",
       "    <tr>\n",
       "      <th>(0.3, 0.4]</th>\n",
       "      <td>7.277713e+08</td>\n",
       "      <td>0.061136</td>\n",
       "    </tr>\n",
       "    <tr>\n",
       "      <th>(0.4, 0.5]</th>\n",
       "      <td>6.480738e+08</td>\n",
       "      <td>0.054441</td>\n",
       "    </tr>\n",
       "    <tr>\n",
       "      <th>(0.5, 0.6]</th>\n",
       "      <td>3.580224e+08</td>\n",
       "      <td>0.030076</td>\n",
       "    </tr>\n",
       "    <tr>\n",
       "      <th>(0.6, 0.7]</th>\n",
       "      <td>3.091275e+08</td>\n",
       "      <td>0.025968</td>\n",
       "    </tr>\n",
       "    <tr>\n",
       "      <th>(0.7, 0.8]</th>\n",
       "      <td>5.639969e+08</td>\n",
       "      <td>0.047378</td>\n",
       "    </tr>\n",
       "    <tr>\n",
       "      <th>(0.8, 0.9]</th>\n",
       "      <td>1.564329e+08</td>\n",
       "      <td>0.013141</td>\n",
       "    </tr>\n",
       "    <tr>\n",
       "      <th>(0.9, 1.01]</th>\n",
       "      <td>2.479275e+09</td>\n",
       "      <td>0.208271</td>\n",
       "    </tr>\n",
       "  </tbody>\n",
       "</table>\n",
       "</div>"
      ],
      "text/plain": [
       "                      views      perc\n",
       "bin                                  \n",
       "(-0.001, 0.1]  3.077338e+09  0.258511\n",
       "(0.1, 0.2]     1.926542e+09  0.161839\n",
       "(0.2, 0.3]     1.657502e+09  0.139238\n",
       "(0.3, 0.4]     7.277713e+08  0.061136\n",
       "(0.4, 0.5]     6.480738e+08  0.054441\n",
       "(0.5, 0.6]     3.580224e+08  0.030076\n",
       "(0.6, 0.7]     3.091275e+08  0.025968\n",
       "(0.7, 0.8]     5.639969e+08  0.047378\n",
       "(0.8, 0.9]     1.564329e+08  0.013141\n",
       "(0.9, 1.01]    2.479275e+09  0.208271"
      ]
     },
     "execution_count": 52,
     "metadata": {},
     "output_type": "execute_result"
    }
   ],
   "source": [
    "bindf = pd.pivot_table(tiktoks,index='bin',values='views',aggfunc='sum')\n",
    "bindf['perc'] = bindf['views']/bindf['views'].sum()\n",
    "bindf"
   ]
  },
  {
   "cell_type": "markdown",
   "metadata": {},
   "source": [
    "Viral videos represent, 22% of all views. Really that's concentrated in the biggest video each user has, their >.9 events.\n",
    "\n",
    "What stands out to me is the .2-.3 group. While only 4.3% of videos, they're 13.9% of views. \n",
    "\n",
    "We can graph a comparison between a bins video count and it's mix of views. The larger the gap the bigger the discrepancy."
   ]
  },
  {
   "cell_type": "code",
   "execution_count": 59,
   "metadata": {},
   "outputs": [
    {
     "data": {
      "text/plain": [
       "<matplotlib.axes._subplots.AxesSubplot at 0xa857b30>"
      ]
     },
     "execution_count": 59,
     "metadata": {},
     "output_type": "execute_result"
    },
    {
     "data": {
      "image/png": "[encoded data removed]",
      "text/plain": [
       "<Figure size 432x288 with 1 Axes>"
      ]
     },
     "metadata": {
      "needs_background": "light"
     },
     "output_type": "display_data"
    }
   ],
   "source": [
    "#Count of views by bin\n",
    "bincount['perc'].plot(color='black')\n",
    "\n",
    "#Count of vidoes by bin\n",
    "bindf['perc'].plot(color='gold')"
   ]
  },
  {
   "cell_type": "markdown",
   "metadata": {},
   "source": [
    "I find this is helpful in evaluating what we're looking for as a result of when the video is posted.\n",
    "\n",
    "We want to keep the video's views in mind but we also want to understand it's ability to go viral. \n",
    "\n",
    "I want to get some bearings on how the data looks by seeing normalized performance by hour the video was posted."
   ]
  },
  {
   "cell_type": "code",
   "execution_count": 60,
   "metadata": {},
   "outputs": [
    {
     "data": {
      "text/plain": [
       "<matplotlib.axes._subplots.AxesSubplot at 0xa896b10>"
      ]
     },
     "execution_count": 60,
     "metadata": {},
     "output_type": "execute_result"
    },
    {
     "data": {
      "image/png": "[encoded data removed]",
      "text/plain": [
       "<Figure size 432x288 with 1 Axes>"
      ]
     },
     "metadata": {
      "needs_background": "light"
     },
     "output_type": "display_data"
    }
   ],
   "source": [
    "hourly_data = pd.pivot_table(tiktoks,index='hour',values='norm_data',aggfunc='mean')\n",
    "hourly_data.plot(kind='bar')"
   ]
  },
  {
   "cell_type": "markdown",
   "metadata": {},
   "source": [
    "That's pretty noisy but there seems to be a pattern of lower performance between 5am and 1pm.\n",
    "\n",
    "After 1pm, it picks up significantly.\n",
    "\n",
    "I'm using the mean here. Knowing that we have significant tail events (viral videos), that's not the ideal way to \n",
    "look at averages. Let's do the same thing but with median."
   ]
  },
  {
   "cell_type": "code",
   "execution_count": 62,
   "metadata": {},
   "outputs": [
    {
     "data": {
      "text/plain": [
       "<matplotlib.axes._subplots.AxesSubplot at 0xa9204f0>"
      ]
     },
     "execution_count": 62,
     "metadata": {},
     "output_type": "execute_result"
    },
    {
     "data": {
      "image/png": "[encoded data removed]",
      "text/plain": [
       "<Figure size 432x288 with 1 Axes>"
      ]
     },
     "metadata": {
      "needs_background": "light"
     },
     "output_type": "display_data"
    }
   ],
   "source": [
    "hourly_data = pd.pivot_table(tiktoks,index='hour',values='norm_data',aggfunc='median')\n",
    "hourly_data.plot(kind='bar')"
   ]
  },
  {
   "cell_type": "markdown",
   "metadata": {},
   "source": [
    "This exagerrates the difference between mid morning performance that, again, start to pick up after 1pm. \n",
    "\n",
    "Important to note on the 2nd chart is the x axis. The difference in the low hours (.015) and evening (.3) is 100%.\n",
    "\n",
    "When looking at the mean it's only 40%!\n",
    "\n",
    "There's a lot of volatility between hours. 2am and 6am are meaningfully higher than their neighboring spots on the clock.\n",
    "\n",
    "Let's make sure sample size isn't affecting this."
   ]
  },
  {
   "cell_type": "code",
   "execution_count": 63,
   "metadata": {},
   "outputs": [
    {
     "data": {
      "text/plain": [
       "0     432\n",
       "1     438\n",
       "2     409\n",
       "3     341\n",
       "4     206\n",
       "5     188\n",
       "6     167\n",
       "7     132\n",
       "8     107\n",
       "9     105\n",
       "10    118\n",
       "11    154\n",
       "12    166\n",
       "13    178\n",
       "14    288\n",
       "15    367\n",
       "16    473\n",
       "17    506\n",
       "18    623\n",
       "19    639\n",
       "20    687\n",
       "21    542\n",
       "22    444\n",
       "23    412\n",
       "Name: hour, dtype: int64"
      ]
     },
     "execution_count": 63,
     "metadata": {},
     "output_type": "execute_result"
    }
   ],
   "source": [
    "pd.set_option('display.max_rows',30)\n",
    "\n",
    "tiktoks['hour'].value_counts().sort_index()"
   ]
  },
  {
   "cell_type": "markdown",
   "metadata": {},
   "source": [
    "There's a handfull of interesting obersvations here.\n",
    "\n",
    "-Given everything is >100 videos, i'm comfortable with the sample size. Some of the fluctuations will smooth with larger sample size but  there's nothing egregous here\n",
    "\n",
    "-We can see some trends about when people are posting to Tiktok. Most videos are posted from 4pm-2am EST.Peak his 6-8pm EST.\n",
    "\n",
    "An interesting hypothesis might be:\n",
    "> Videos posted when there is less competition from other new videos will perform better\n",
    "\n",
    "That's banking on a supply/demand equilibrium being the driver. \n",
    "\n",
    "Let's visualize when videos are being posted."
   ]
  },
  {
   "cell_type": "code",
   "execution_count": 64,
   "metadata": {},
   "outputs": [
    {
     "data": {
      "text/plain": [
       "<matplotlib.axes._subplots.AxesSubplot at 0xa99d490>"
      ]
     },
     "execution_count": 64,
     "metadata": {},
     "output_type": "execute_result"
    },
    {
     "data": {
      "image/png": "[encoded data removed]",
      "text/plain": [
       "<Figure size 432x288 with 1 Axes>"
      ]
     },
     "metadata": {
      "needs_background": "light"
     },
     "output_type": "display_data"
    }
   ],
   "source": [
    "p1 = tiktoks['hour'].value_counts().sort_index()/tiktoks['hour'].value_counts().sum()\n",
    "p1.plot()"
   ]
  },
  {
   "cell_type": "markdown",
   "metadata": {},
   "source": [
    "If you compare this to our median normalized performance chart, they're pretty similar. It seems that videos perform worse\n",
    "at the same time a day less videos are posted. Glad to see tiktokers are getting at least some sleep.\n",
    "\n",
    "Let's revisit this view but focusin on viral videos.\n",
    "\n",
    "When are most viral videos posted?"
   ]
  },
  {
   "cell_type": "code",
   "execution_count": 66,
   "metadata": {},
   "outputs": [
    {
     "data": {
      "text/plain": [
       "<matplotlib.axes._subplots.AxesSubplot at 0xaa2ab70>"
      ]
     },
     "execution_count": 66,
     "metadata": {},
     "output_type": "execute_result"
    },
    {
     "data": {
      "image/png": "[encoded data removed]",
      "text/plain": [
       "<Figure size 432x288 with 1 Axes>"
      ]
     },
     "metadata": {
      "needs_background": "light"
     },
     "output_type": "display_data"
    }
   ],
   "source": [
    "tiktoks.loc[tiktoks['norm_data']>=.8]['hour'].value_counts().sort_index()/tiktoks.loc[tiktoks['norm_data']>=.8]['hour'].value_counts().sum()\n",
    "p2 = tiktoks.loc[tiktoks['norm_data']>=.8]['hour'].value_counts().sort_index()/tiktoks.loc[tiktoks['norm_data']>=.8]['hour'].value_counts().sum()\n",
    "p2.plot()"
   ]
  },
  {
   "cell_type": "markdown",
   "metadata": {},
   "source": [
    "Interesting, it follow the same pattern but with the lows and highs exaggerated. You're really not likely to post something\n",
    "viral between 3am and 1pm. \n",
    "\n",
    "Let's compare when viral vidoes are posted to when all videos are posted. If there is a large gap at any time it would point\n",
    "us to the conclusion that you're video is more likely to go viarl if posted at that time."
   ]
  },
  {
   "cell_type": "code",
   "execution_count": 68,
   "metadata": {},
   "outputs": [
    {
     "data": {
      "text/plain": [
       "<matplotlib.axes._subplots.AxesSubplot at 0xaa70770>"
      ]
     },
     "execution_count": 68,
     "metadata": {},
     "output_type": "execute_result"
    },
    {
     "data": {
      "image/png": "[encoded data removed]",
      "text/plain": [
       "<Figure size 432x288 with 1 Axes>"
      ]
     },
     "metadata": {
      "needs_background": "light"
     },
     "output_type": "display_data"
    }
   ],
   "source": [
    "p1.plot()\n",
    "p2.plot()"
   ]
  },
  {
   "cell_type": "markdown",
   "metadata": {},
   "source": [
    "One assumption i've been making without discussing is that hours are always the same.\n",
    "\n",
    "Let's test that out and look at performance by day. 2am Tuesday morning and 2am sunday morning are very different animals.\n",
    "\n",
    "As a note here, throughout this workbook I've done essentialy no formatting of charts. That's a conscious decision but it'll finally bite me in the butt here. It's hard to interpret 0 and 1 as days.\n",
    "\n",
    "For reference, 0 is Monday and 6 is Sunday. So think of 4,5,6 as the weekend (including Friday for Friday night here)."
   ]
  },
  {
   "cell_type": "code",
   "execution_count": 70,
   "metadata": {},
   "outputs": [
    {
     "data": {
      "image/png": "[encoded data removed]",
      "text/plain": [
       "<Figure size 1152x1152 with 7 Axes>"
      ]
     },
     "metadata": {
      "needs_background": "light"
     },
     "output_type": "display_data"
    }
   ],
   "source": [
    "##Show best time of day to post by day\n",
    "\n",
    "fig = plt.figure(figsize=(16,16))\n",
    "for day in range(0,7):\n",
    "    ax = fig.add_subplot(3,3,day+1)\n",
    "    pd.pivot_table(tiktoks.loc[tiktoks['day'] == day],index='hour',values='norm_data',aggfunc='mean').plot(kind='bar', ax=ax)\n",
    "    ax.set_title('{}'.format(day))\n",
    "    \n",
    "plt.show()"
   ]
  },
  {
   "cell_type": "markdown",
   "metadata": {},
   "source": [
    "Sample size will be an issue here. I'm taking ~9000 videos and dividing them into 168 bins. If they were evently distributed it would be ~50 per hour but we know from earlier they're far from evenly distributed. \n",
    "\n",
    "Still, we can see the same basic pattern across days. A dip mid-day and high performance in the evening hours.\n",
    "\n",
    "The y scales don't match across these charts. It's hard to compare days. Let's see if there is better performance on specific days."
   ]
  },
  {
   "cell_type": "code",
   "execution_count": 72,
   "metadata": {},
   "outputs": [
    {
     "data": {
      "text/plain": [
       "<matplotlib.axes._subplots.AxesSubplot at 0xb16f670>"
      ]
     },
     "execution_count": 72,
     "metadata": {},
     "output_type": "execute_result"
    },
    {
     "data": {
      "image/png": "[encoded data removed]",
      "text/plain": [
       "<Figure size 432x288 with 1 Axes>"
      ]
     },
     "metadata": {
      "needs_background": "light"
     },
     "output_type": "display_data"
    }
   ],
   "source": [
    "##Best day of the week to post\n",
    "pd.pivot_table(tiktoks,index='day',values='norm_data',aggfunc='mean').plot(kind='bar')"
   ]
  },
  {
   "cell_type": "markdown",
   "metadata": {},
   "source": [
    "And let's expand that to look at viral videos."
   ]
  },
  {
   "cell_type": "code",
   "execution_count": 75,
   "metadata": {},
   "outputs": [
    {
     "data": {
      "text/plain": [
       "<matplotlib.axes._subplots.AxesSubplot at 0x954d0d0>"
      ]
     },
     "execution_count": 75,
     "metadata": {},
     "output_type": "execute_result"
    },
    {
     "data": {
      "image/png": "[encoded data removed]",
      "text/plain": [
       "<Figure size 432x288 with 1 Axes>"
      ]
     },
     "metadata": {
      "needs_background": "light"
     },
     "output_type": "display_data"
    }
   ],
   "source": [
    "#day of week when viral videos are posted\n",
    "#Takes count by day for viral videos and divides by total vidoes posted by day to give us a %.\n",
    "ratio = pd.pivot_table(tiktoks.loc[tiktoks['norm_data']>=.8],index='day',values='norm_data',aggfunc='count')/pd.pivot_table(tiktoks,index='day',values='norm_data',aggfunc='count')\n",
    "ratio.plot(kind='bar')"
   ]
  },
  {
   "cell_type": "markdown",
   "metadata": {},
   "source": [
    "On Mondays, 2% of all vidoes will go viral. \n",
    "\n",
    "On Tuesdays, Wednesdays, and Saturdays; 3% of videos will go viral. A 50% increase in likelihood!!"
   ]
  },
  {
   "cell_type": "markdown",
   "metadata": {},
   "source": [
    "## Summary\n",
    "\n",
    "One assumption not addressed to day is the causuality of when the video was posted. I'm assuming a video performed better\n",
    "*because* it was posted at that time. However, creators might post their best content at a specific time. The quality of the\n",
    "content might be the underlying driver, not the time. Quantifying the quality of a video is beyond the scope of this analysis, so I'll move forward with that assumption.\n",
    "\n",
    "- Avoid posting between 4am and 1pm EST. \n",
    "\n",
    "- The best performing videos, especially if you want to go viral, are posted between 1am and 3am EST.\n",
    "    - I don't have access to when the \"view\" occurs. I'm very interested to see if these are going viral because of views the    following day ore because of 1am and 3am views...\n",
    "    \n",
    "- Videos posted between 6 and 10pm EST are a close second on performance\n",
    "\n",
    "- If you want to go viral, post on Tuesday, Wednesday and Saturday!\n",
    "\n",
    "- Monday's are the worst performing days. If you have limited content, try to avoid Mondays.\n",
    "    - If you are posting no matter what on Monday (most serious creators) make sure you wait until after 1pm EST\n",
    "    \n",
    "\n",
    "\n"
   ]
  },
  {
   "cell_type": "code",
   "execution_count": null,
   "metadata": {},
   "outputs": [],
   "source": []
  }
 ],
 "metadata": {
  "kernelspec": {
   "display_name": "Python 3",
   "language": "python",
   "name": "python3"
  },
  "language_info": {
   "codemirror_mode": {
    "name": "ipython",
    "version": 3
   },
   "file_extension": ".py",
   "mimetype": "text/x-python",
   "name": "python",
   "nbconvert_exporter": "python",
   "pygments_lexer": "ipython3",
   "version": "3.7.6"
  }
 },
 "nbformat": 4,
 "nbformat_minor": 4
}
